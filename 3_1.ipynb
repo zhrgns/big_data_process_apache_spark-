{
  "nbformat": 4,
  "nbformat_minor": 0,
  "metadata": {
    "colab": {
      "provenance": []
    },
    "kernelspec": {
      "name": "python3",
      "display_name": "Python 3"
    },
    "language_info": {
      "name": "python"
    }
  },
  "cells": [
    {
      "cell_type": "code",
      "execution_count": null,
      "metadata": {
        "id": "rOCjJUSjOZPU"
      },
      "outputs": [],
      "source": [
        "!apt-get update\n",
        "!apt-get install openjdk-8-jdk-headless -qq > /dev/null\n",
        "import os\n",
        "os.environ[\"JAVA_HOME\"] = \"/usr/lib/jvm/java-8-openjdk-amd64\"\n",
        "!update-alternatives --set java /usr/lib/jvm/java-8-openjdk-amd64/jre/bin/java\n",
        "!java -version\n",
        "!pip install pyspark\n"
      ]
    },
    {
      "cell_type": "code",
      "source": [
        "from pyspark.sql import SparkSession\n",
        "from pyspark.ml.feature import VectorAssembler, StringIndexer\n",
        "from pyspark.ml.classification import RandomForestClassifier, DecisionTreeClassifier, LogisticRegression\n",
        "from pyspark.ml.evaluation import MulticlassClassificationEvaluator\n",
        "from pyspark.ml.tuning import CrossValidator, ParamGridBuilder\n",
        "\n",
        "# Read file\n",
        "spark = SparkSession.builder.getOrCreate()\n",
        "leafDF = spark.read.option(\"inferSchema\",\"true\").csv(\"leaf.csv\")\n",
        "leafDF = leafDF.withColumnRenamed(\"_c0\",\"class\")\n",
        "\n",
        "# Make index for label\n",
        "indexer = StringIndexer(inputCol=\"class\",outputCol=\"label\", stringOrderType=\"alphabetDesc\")\n",
        "leafDF = indexer.fit(leafDF).transform(leafDF)\n",
        "\n",
        "# Create features column from columns with VectorAssembler\n",
        "vec = VectorAssembler(inputCols=leafDF.columns[2:-1],outputCol=\"features\")\n",
        "leafDF = vec.transform(leafDF)\n",
        "\n",
        "leafDF = leafDF.select(\"features\",\"label\")\n",
        "leafDF.show(truncate=False)"
      ],
      "metadata": {
        "colab": {
          "base_uri": "https://localhost:8080/"
        },
        "id": "_Tg8_htdOzvi",
        "outputId": "431c6ce4-d4a8-45f9-8077-10a4044194fb"
      },
      "execution_count": 86,
      "outputs": [
        {
          "output_type": "stream",
          "name": "stdout",
          "text": [
            "+----------------------------------------------------------------------------------------------------------------------------+-----+\n",
            "|features                                                                                                                    |label|\n",
            "+----------------------------------------------------------------------------------------------------------------------------+-----+\n",
            "|[0.72694,1.4742,0.32396,0.98535,1.0,0.83592,0.0046566,0.0039465,0.04779,0.12795,0.016108,0.0052323,2.7477E-4,1.1756]        |29.0 |\n",
            "|[0.74173,1.5257,0.36116,0.98152,0.99825,0.79867,0.0052423,0.0050016,0.02416,0.090476,0.0081195,0.002708,7.4846E-5,0.69659]  |29.0 |\n",
            "|[0.76722,1.5725,0.38998,0.97755,1.0,0.80812,0.0074573,0.010121,0.011897,0.057445,0.0032891,9.2068E-4,3.7886E-5,0.44348]     |29.0 |\n",
            "|[0.73797,1.4597,0.35376,0.97566,1.0,0.81697,0.0068768,0.0086068,0.01595,0.065491,0.0042707,0.0011544,6.6272E-5,0.58785]     |29.0 |\n",
            "|[0.82301,1.7707,0.44462,0.97698,1.0,0.75493,0.007428,0.010042,0.0079379,0.045339,0.0020514,5.5986E-4,2.3504E-5,0.34214]     |29.0 |\n",
            "|[0.72997,1.4892,0.34284,0.98755,1.0,0.84482,0.0049451,0.0044506,0.010487,0.058528,0.0034138,0.0011248,2.4798E-5,0.34068]    |29.0 |\n",
            "|[0.82063,1.7529,0.44458,0.97964,0.99649,0.7677,0.0059279,0.0063954,0.018375,0.080587,0.0064523,0.0022713,4.1495E-5,0.53904] |29.0 |\n",
            "|[0.77982,1.6215,0.39222,0.98512,0.99825,0.80816,0.0050987,0.0047314,0.024875,0.089686,0.0079794,0.0024664,1.4676E-4,0.66975]|29.0 |\n",
            "|[0.83089,1.8199,0.45693,0.9824,1.0,0.77106,0.0060055,0.006564,0.0072447,0.040616,0.0016469,3.8812E-4,3.2863E-5,0.33696]     |29.0 |\n",
            "|[0.90631,2.3906,0.58336,0.97683,0.99825,0.66419,0.0084019,0.012848,0.0070096,0.042347,0.0017901,4.5889E-4,2.8251E-5,0.28082]|29.0 |\n",
            "|[0.7459,1.4927,0.34116,0.98296,1.0,0.83088,0.0055665,0.0056395,0.0057679,0.036511,0.0013313,3.0872E-4,3.1839E-5,0.25026]    |29.0 |\n",
            "|[0.79606,1.6934,0.43387,0.98181,1.0,0.76985,0.0077992,0.011071,0.013677,0.057832,0.0033334,8.1648E-4,1.3855E-4,0.49751]     |29.0 |\n",
            "|[0.93361,2.7582,0.64257,0.98346,1.0,0.59851,0.0055336,0.0055731,0.029712,0.089889,0.0080153,0.0020648,2.3883E-4,0.91499]    |22.0 |\n",
            "|[0.91186,2.4994,0.60323,0.983,1.0,0.64916,0.0061494,0.0068823,0.018887,0.072486,0.0052267,0.0014887,8.3271E-5,0.67811]      |22.0 |\n",
            "|[0.89063,2.2927,0.56667,0.98732,1.0,0.66427,0.0028365,0.0014643,0.029272,0.091328,0.0082717,0.0022383,2.0166E-4,0.87177]    |22.0 |\n",
            "|[0.86755,2.009,0.51464,0.98691,1.0,0.70277,0.0054439,0.0053937,0.030348,0.092063,0.0084044,0.0022541,1.9854E-4,0.94545]     |22.0 |\n",
            "|[0.91852,2.5247,0.61648,0.9787,1.0,0.63037,0.0050494,0.0046404,0.02309,0.082029,0.0066839,0.0018929,1.2452E-4,0.71713]      |22.0 |\n",
            "|[0.88795,2.2038,0.56218,0.97835,0.99825,0.64158,0.0059242,0.0063874,0.032722,0.092969,0.0085691,0.0021199,2.7729E-4,1.008]  |22.0 |\n",
            "|[0.85121,1.9548,0.4892,0.98622,1.0,0.70267,0.0039733,0.0028733,0.020258,0.070841,0.0049933,0.0012274,1.4929E-4,0.74174]     |22.0 |\n",
            "|[0.89084,2.2979,0.57815,0.97389,1.0,0.64598,0.015271,0.042443,0.028461,0.086477,0.0074228,0.0018832,2.4345E-4,0.91307]      |22.0 |\n",
            "+----------------------------------------------------------------------------------------------------------------------------+-----+\n",
            "only showing top 20 rows\n",
            "\n"
          ]
        }
      ]
    },
    {
      "cell_type": "code",
      "source": [
        "# train test split\n",
        "trainDF,testDF= leafDF.randomSplit([0.8,0.2])\n",
        "\n",
        "# using random classifier\n",
        "rf = RandomForestClassifier()\n",
        "eva = MulticlassClassificationEvaluator(metricName=\"accuracy\")\n",
        "\n",
        "myParams = ParamGridBuilder().addGrid(rf.maxDepth,[10,15,20])\\\n",
        "                                .addGrid(rf.numTrees,[5,10,20])\\\n",
        "                                .addGrid(rf.impurity,[\"gini\",\"entropy\"])\\\n",
        "                                .build()\n",
        "\n",
        "validator = CrossValidator(estimator=rf,\n",
        "                                 evaluator=eva,\n",
        "                                 numFolds=5,\n",
        "                                 parallelism=8,\n",
        "                                 estimatorParamMaps=myParams\n",
        "                                )\n",
        "\n",
        "# Create Model\n",
        "modelRF = validator.fit(trainDF)\n",
        "print(\"Best Parameters\")\n",
        "\n",
        "# Best Parameters for Random Forest Classifier \n",
        "print(\"Max Depth : \", modelRF.bestModel.getMaxDepth())\n",
        "print(\"Num Trees : \", modelRF.bestModel.getNumTrees)\n",
        "print(\"Impurity  : \", modelRF.bestModel.getImpurity())\n",
        "\n",
        "# Test Accuracy\n",
        "resultDF = modelRF.transform(testDF)\n",
        "\n",
        "# Success Rate \n",
        "eva = MulticlassClassificationEvaluator(metricName=\"accuracy\")\n",
        "successRate = eva.evaluate(resultDF)\n",
        "print(\"Success Rate : \",successRate)"
      ],
      "metadata": {
        "colab": {
          "base_uri": "https://localhost:8080/"
        },
        "id": "DmvtLIu5epec",
        "outputId": "e91aacc9-4e93-423d-f576-0356a005155e"
      },
      "execution_count": 87,
      "outputs": [
        {
          "output_type": "stream",
          "name": "stdout",
          "text": [
            "Best Parameters\n",
            "Max Depth :  15\n",
            "Num Trees :  20\n",
            "Impurity  :  gini\n",
            "Success Rate :  0.7160493827160493\n"
          ]
        }
      ]
    },
    {
      "cell_type": "code",
      "source": [
        "leafDF = leafDF.select(\"features\",\"label\")\n",
        "\n",
        "# train test split\n",
        "trainDF,testDF= leafDF.randomSplit([0.8,0.2])\n",
        "\n",
        "# Using Decision Tree\n",
        "dt = DecisionTreeClassifier()\n",
        "eva = MulticlassClassificationEvaluator(metricName=\"accuracy\")\n",
        "\n",
        "myParams = ParamGridBuilder().addGrid(dt.maxDepth,[5,15,20])\\\n",
        "                                .addGrid(dt.maxBins,[32,64])\\\n",
        "                                .addGrid(dt.impurity,[\"gini\",\"entropy\"])\\\n",
        "                                .build()\n",
        "\n",
        "validator = CrossValidator(estimator=dt,\n",
        "                                 evaluator=eva,\n",
        "                                 numFolds=5,\n",
        "                                 parallelism=8,\n",
        "                                 estimatorParamMaps=myParams\n",
        "                                )\n",
        "\n",
        "# Create Model\n",
        "modelDT = validator.fit(trainDF)\n",
        "print(\"Best Parameters for Decision Tree\")\n",
        "\n",
        "# Best Parameters for Decision Tree Classifier\n",
        "print(\"Max Depth : \", modelDT.bestModel.getMaxDepth())\n",
        "print(\"Max Bins : \", modelDT.bestModel.getMaxBins())\n",
        "print(\"Impurity  : \", modelDT.bestModel.getImpurity())\n"
      ],
      "metadata": {
        "colab": {
          "base_uri": "https://localhost:8080/"
        },
        "id": "cpo14mVlm53O",
        "outputId": "bd8aafb2-8df0-461f-a913-16fe94cf8305"
      },
      "execution_count": 88,
      "outputs": [
        {
          "output_type": "stream",
          "name": "stdout",
          "text": [
            "Best Parameters for Decision Tree\n",
            "Max Depth :  15\n",
            "Max Bins :  64\n",
            "Impurity  :  entropy\n"
          ]
        }
      ]
    },
    {
      "cell_type": "code",
      "source": [
        "# Test Accuracy\n",
        "resultDF = modelDT.transform(testDF)\n",
        "\n",
        "# Success Rate \n",
        "eva = MulticlassClassificationEvaluator(metricName=\"accuracy\")\n",
        "successRate = eva.evaluate(resultDF)\n",
        "print(\"Success Rate : \",successRate)"
      ],
      "metadata": {
        "colab": {
          "base_uri": "https://localhost:8080/"
        },
        "id": "JjQ3rLxItKio",
        "outputId": "6f6992c7-1c43-420c-827d-3946bcb4f6b9"
      },
      "execution_count": 89,
      "outputs": [
        {
          "output_type": "stream",
          "name": "stdout",
          "text": [
            "Success Rate :  0.5588235294117647\n"
          ]
        }
      ]
    },
    {
      "cell_type": "code",
      "source": [
        "leafDF = leafDF.select(\"features\",\"label\")\n",
        "\n",
        "# train test split\n",
        "trainDF,testDF= leafDF.randomSplit([0.8,0.2])\n",
        "\n",
        "\n",
        "# Using Logistic Regression\n",
        "lr = LogisticRegression()\n",
        "eva = MulticlassClassificationEvaluator(metricName=\"accuracy\")\n",
        "\n",
        "myParams = ParamGridBuilder().addGrid(lr.regParam,[0.01,0.1,1.0])\\\n",
        "                                .addGrid(lr.elasticNetParam,[0.0, 0.5, 1.0])\\\n",
        "                                .addGrid(lr.maxIter,[10, 100, 1000])\\\n",
        "                                .build()\n",
        "\n",
        "validator = CrossValidator(estimator=lr,\n",
        "                                 evaluator=eva,\n",
        "                                 numFolds=5,\n",
        "                                 parallelism=8,\n",
        "                                 estimatorParamMaps=myParams\n",
        "                                )\n",
        "\n",
        "# Create Model\n",
        "modelLR = validator.fit(trainDF)\n",
        "\n",
        "print(\"Best Parameters for Logistic Regression\")\n",
        "\n",
        "# Best Parameters for Logistic Regression\n",
        "print(\"Reg Param : \", modelLR.bestModel.getRegParam())\n",
        "print(\"Elastic Net Param : \", modelLR.bestModel.getElasticNetParam())\n",
        "print(\"Max Iter : \", modelLR.bestModel.getMaxIter())"
      ],
      "metadata": {
        "colab": {
          "base_uri": "https://localhost:8080/"
        },
        "id": "5-gnXBuI_4iq",
        "outputId": "5f382392-64f2-4c6a-fdb2-41a3d2729d71"
      },
      "execution_count": 90,
      "outputs": [
        {
          "output_type": "stream",
          "name": "stdout",
          "text": [
            "Best Parameters for Logistic Regression\n",
            "Reg Param :  0.01\n",
            "Elastic Net Param :  0.0\n",
            "Max Iter :  100\n"
          ]
        }
      ]
    },
    {
      "cell_type": "code",
      "source": [
        "# Test Accuracy \n",
        "resultDF = modelLR.transform(testDF)\n",
        "\n",
        "# Success Rate \n",
        "eva = MulticlassClassificationEvaluator(metricName=\"accuracy\")\n",
        "successRate = eva.evaluate(resultDF)\n",
        "print(\"Success Rate : \",successRate)"
      ],
      "metadata": {
        "colab": {
          "base_uri": "https://localhost:8080/"
        },
        "id": "nZ6h6fsS_46D",
        "outputId": "a772a637-4aa1-435d-a305-b5fb8812ac6e"
      },
      "execution_count": 92,
      "outputs": [
        {
          "output_type": "stream",
          "name": "stdout",
          "text": [
            "Success Rate :  0.7142857142857143\n"
          ]
        }
      ]
    },
    {
      "cell_type": "code",
      "source": [],
      "metadata": {
        "id": "8jqqWVp0FQA7"
      },
      "execution_count": null,
      "outputs": []
    },
    {
      "cell_type": "code",
      "source": [],
      "metadata": {
        "id": "F-NCO5hEBksW"
      },
      "execution_count": null,
      "outputs": []
    }
  ]
}