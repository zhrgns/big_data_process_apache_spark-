{
  "cells": [
    {
      "cell_type": "markdown",
      "metadata": {
        "id": "049ak5Gh_mpl"
      },
      "source": [
        "\n",
        "Using EarthquakeDataset.txt dataset;\n",
        "\n",
        "Please find the list of aftershocks (within 50 km and in 5 days) for\n",
        "top 5 earthquakes and order them according to aftershock count."
      ]
    },
    {
      "cell_type": "code",
      "execution_count": 1,
      "metadata": {
        "id": "-Pkre16P_NLr"
      },
      "outputs": [
        {
          "name": "stderr",
          "output_type": "stream",
          "text": [
            "'apt-get' is not recognized as an internal or external command,\n",
            "operable program or batch file.\n",
            "Sistem belirtilen yolu bulam�yor.\n",
            "'update-alternatives' is not recognized as an internal or external command,\n",
            "operable program or batch file.\n",
            "java version \"17.0.6\" 2023-01-17 LTS\n",
            "Java(TM) SE Runtime Environment (build 17.0.6+9-LTS-190)\n",
            "Java HotSpot(TM) 64-Bit Server VM (build 17.0.6+9-LTS-190, mixed mode, sharing)\n"
          ]
        },
        {
          "name": "stdout",
          "output_type": "stream",
          "text": [
            "Requirement already satisfied: pyspark in c:\\users\\zehra\\anaconda3\\lib\\site-packages (3.4.0)\n",
            "Requirement already satisfied: py4j==0.10.9.7 in c:\\users\\zehra\\anaconda3\\lib\\site-packages (from pyspark) (0.10.9.7)\n"
          ]
        }
      ],
      "source": [
        "!apt-get update\n",
        "!apt-get install openjdk-8-jdk-headless -qq > /dev/null\n",
        "import os\n",
        "os.environ[\"JAVA_HOME\"] = \"/usr/lib/jvm/java-8-openjdk-amd64\"\n",
        "!update-alternatives --set java /usr/lib/jvm/java-8-openjdk-amd64/jre/bin/java\n",
        "!java -version\n",
        "!pip install pyspark"
      ]
    },
    {
      "cell_type": "code",
      "execution_count": null,
      "metadata": {
        "colab": {
          "base_uri": "https://localhost:8080/"
        },
        "id": "3Xx2xBAJ_O0D",
        "outputId": "e31734c9-508b-45ab-da8c-38f67091a560"
      },
      "outputs": [],
      "source": [
        "from pyspark import SparkContext\n",
        "\n",
        "# import file\n",
        "sc = SparkContext.getOrCreate()\n",
        "eqRDD = sc.textFile(\"EarthquakeDataset.txt\")\n",
        "eqRDD = eqRDD.filter(lambda x : 'Enlem' not in x)\n",
        "\n",
        "# function to formatting data\n",
        "def data_parse(line):\n",
        "    info = line.split(\"\\t\")\n",
        "    day = info[2]\n",
        "    latitude = float(info[4])\n",
        "    longitude = float(info[5])\n",
        "    mag = float(info[7])\n",
        "    loc = info[14].strip()\n",
        "    char_remov = [\"(\", \")\", \"[\", \"]\"]\n",
        "    for char in char_remov:\n",
        "      loc = loc.replace(char, \"\")\n",
        "    return (day,(latitude,longitude),mag, loc[0:30])\n",
        "# take data \n",
        "eqRDD = eqRDD.map(lambda line : data_parse(line))\n",
        "eqRDD = eqRDD.sortBy(lambda x : x[2],ascending=False)\n",
        "eqRDD.take(5)"
      ]
    },
    {
      "cell_type": "code",
      "execution_count": 231,
      "metadata": {
        "colab": {
          "base_uri": "https://localhost:8080/"
        },
        "id": "d8Slc2DgBi65",
        "outputId": "51b52f22-5ba4-45c1-e279-b197adb36429"
      },
      "outputs": [
        {
          "data": {
            "text/plain": [
              "['1939.12.26', '2023.02.06', '1926.06.26', '2023.02.06', '1930.05.06']"
            ]
          },
          "execution_count": 231,
          "metadata": {},
          "output_type": "execute_result"
        }
      ],
      "source": [
        "#create list of 5 days.\n",
        "dayRDD = eqRDD.map(lambda line : line[0])\n",
        "top_5 = dayRDD.take(5)\n",
        "top_5"
      ]
    },
    {
      "cell_type": "code",
      "execution_count": 232,
      "metadata": {
        "colab": {
          "base_uri": "https://localhost:8080/"
        },
        "id": "4ydpv_PqJIB9",
        "outputId": "81186e1e-4877-4adc-d65b-e986ee3e6fae"
      },
      "outputs": [
        {
          "data": {
            "text/plain": [
              "[('1939.12.26', (39.8, 39.51), 7.9, 'KURUTILEK- ERZINCAN North East'),\n",
              " ('2023.02.06', (37.1757, 37.085), 7.7, 'YAMACOBA-SEHITKAMIL GAZIANTEP '),\n",
              " ('1926.06.26', (36.54, 27.33), 7.7, 'ONIKI ADALAR AKDENIZ'),\n",
              " ('2023.02.06', (38.0818, 37.1773), 7.6, 'EKINOZU KAHRAMANMARAS North We'),\n",
              " ('1930.05.06', (37.98, 44.48), 7.6, 'T�RKIYE-IRAN SINIR B�LGESI'),\n",
              " ('2023.02.06', (37.2337, 36.7805), 6.6, 'BELPINAR-NURDAGI GAZIANTEP Nor'),\n",
              " ('2023.02.06', (38.031, 36.335), 6.0, 'SOGUKPINAR-GOKSUN KAHRAMANMARA'),\n",
              " ('2023.02.06', (38.1855, 37.9793), 5.8, 'SUCATI-DOGANSEHIR MALATYA Sout'),\n",
              " ('2023.02.06', (38.1433, 37.7937), 5.8, 'CAVUSLU-DOGANSEHIR MALATYA Sou'),\n",
              " ('1939.12.28', (40.47, 37.0), 5.8, 'KOKLUCE-NIKSAR TOKAT South Eas')]"
            ]
          },
          "execution_count": 232,
          "metadata": {},
          "output_type": "execute_result"
        }
      ],
      "source": [
        "from datetime import datetime, timedelta\n",
        "# create a list for the days\n",
        "def calculate5_days(day_list):\n",
        "    updated_day_list = []\n",
        "    for day in day_list:\n",
        "        date_format = \"%Y.%m.%d\"\n",
        "        dayf = datetime.strptime(day, date_format)\n",
        "        updated_day = dayf + timedelta(days=5)\n",
        "        consecutive_dates = [(dayf + timedelta(days=i)).strftime(date_format) for i in range(0, 6)]\n",
        "        updated_day_list.extend(consecutive_dates)\n",
        "    return updated_day_list\n",
        "\n",
        "days_list = calculate5_days(top_5)\n",
        "# days_list\n",
        "\n",
        "aftershocks_rdd = eqRDD.filter(lambda x: x[0] in days_list)\n",
        "aftershocks_rdd.take(10)"
      ]
    },
    {
      "cell_type": "code",
      "execution_count": 233,
      "metadata": {
        "colab": {
          "base_uri": "https://localhost:8080/"
        },
        "id": "TCfS_DLPBE0j",
        "outputId": "71483f03-f564-4bcf-cfb9-a67bfe71c66e"
      },
      "outputs": [
        {
          "data": {
            "text/plain": [
              "[(('2023.02.06', 'YAMACOBA-SEHITKAMIL GAZIANTEP '),\n",
              "  ('2023.02.06', 'BELPINAR-NURDAGI GAZIANTEP Nor'),\n",
              "  27.79,\n",
              "  1),\n",
              " (('2023.02.06', 'YAMACOBA-SEHITKAMIL GAZIANTEP '),\n",
              "  ('2023.02.06', 'KIRISKAL-NURDAGI GAZIANTEP Nor'),\n",
              "  23.56,\n",
              "  1),\n",
              " (('2023.02.06', 'YAMACOBA-SEHITKAMIL GAZIANTEP '),\n",
              "  ('2023.02.06', 'KARAHUYUK-PAZARCIK KAHRAMANMAR'),\n",
              "  9.54,\n",
              "  1),\n",
              " (('2023.02.06', 'YAMACOBA-SEHITKAMIL GAZIANTEP '),\n",
              "  ('2023.02.06', 'IKIZKUYU-NURDAGI GAZIANTEP Nor'),\n",
              "  10.93,\n",
              "  1),\n",
              " (('1939.12.26', 'KURUTILEK- ERZINCAN North East'),\n",
              "  ('1939.12.29', 'AGILOZU- ERZINCAN West 3.7 km'),\n",
              "  22.84,\n",
              "  1)]"
            ]
          },
          "execution_count": 233,
          "metadata": {},
          "output_type": "execute_result"
        }
      ],
      "source": [
        "import geopy.distance\n",
        "# function to calculate distance between earthquake and aftershocks\n",
        "def get_distances(tuple1, tuple2):\n",
        "    eqday = tuple1[0]\n",
        "    asday = tuple2[0]\n",
        "    eqcoords = tuple1[1]\n",
        "    ascoords = tuple2[1]\n",
        "    loc1 = tuple1[3]\n",
        "    loc2 = tuple2[3]\n",
        "    distance = geopy.distance.geodesic(eqcoords, ascoords).km\n",
        "    distance = round(distance,2)\n",
        "    return ((eqday,loc1),(asday, loc2),distance, 1)\n",
        "\n",
        "# create rdd from top 5 earthquake\n",
        "top_list= eqRDD.take(5)\n",
        "topRDD= sc.parallelize(top_list)\n",
        "\n",
        "# create combinations of biggest eq's and aftershocks using cartesian function and filter distances high than 50 km\n",
        "combinationRDD = topRDD.cartesian(aftershocks_rdd)\n",
        "combinationRDD = combinationRDD.map(lambda x: get_distances(x[0],x[1]))\n",
        "combinationRDD = combinationRDD.filter(lambda x: x[2]<= 50 and x[2] != 0)\n",
        "combinationRDD.take(5)"
      ]
    },
    {
      "cell_type": "code",
      "execution_count": 234,
      "metadata": {
        "colab": {
          "base_uri": "https://localhost:8080/"
        },
        "id": "1cCr1y_XcTbg",
        "outputId": "a9e5c248-7733-482d-ffab-6192d42dbbc3"
      },
      "outputs": [
        {
          "data": {
            "text/plain": [
              "[(('2023.02.06', 'EKINOZU KAHRAMANMARAS North We'), 185),\n",
              " (('2023.02.06', 'YAMACOBA-SEHITKAMIL GAZIANTEP '), 131),\n",
              " (('1930.05.06', 'T�RKIYE-IRAN SINIR B�LGESI'), 7),\n",
              " (('1926.06.26', 'ONIKI ADALAR AKDENIZ'), 2),\n",
              " (('1939.12.26', 'KURUTILEK- ERZINCAN North East'), 2)]"
            ]
          },
          "execution_count": 234,
          "metadata": {},
          "output_type": "execute_result"
        }
      ],
      "source": [
        "combinationRDD = combinationRDD.map(lambda x:(x[0],x[3]))\n",
        "totalRDD=combinationRDD.reduceByKey(lambda x,y:x+y).sortBy(lambda x: x[1], ascending=False)\n",
        "\n",
        "totalRDD.take(10)"
      ]
    },
    {
      "cell_type": "code",
      "execution_count": null,
      "metadata": {
        "id": "ha24l6FTdseR"
      },
      "outputs": [],
      "source": []
    }
  ],
  "metadata": {
    "colab": {
      "provenance": []
    },
    "kernelspec": {
      "display_name": "Python 3",
      "name": "python3"
    },
    "language_info": {
      "codemirror_mode": {
        "name": "ipython",
        "version": 3
      },
      "file_extension": ".py",
      "mimetype": "text/x-python",
      "name": "python",
      "nbconvert_exporter": "python",
      "pygments_lexer": "ipython3",
      "version": "3.9.12"
    }
  },
  "nbformat": 4,
  "nbformat_minor": 0
}
