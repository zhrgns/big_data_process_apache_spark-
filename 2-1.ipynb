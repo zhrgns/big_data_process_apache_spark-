{
  "nbformat": 4,
  "nbformat_minor": 0,
  "metadata": {
    "colab": {
      "provenance": []
    },
    "kernelspec": {
      "name": "python3",
      "display_name": "Python 3"
    },
    "language_info": {
      "name": "python"
    }
  },
  "cells": [
    {
      "cell_type": "code",
      "execution_count": 3,
      "metadata": {
        "colab": {
          "base_uri": "https://localhost:8080/"
        },
        "id": "rOCjJUSjOZPU",
        "outputId": "56719f49-6ea6-4790-c81e-4a00b09488c8"
      },
      "outputs": [
        {
          "output_type": "stream",
          "name": "stdout",
          "text": [
            "\r0% [Working]\r            \rHit:1 https://cloud.r-project.org/bin/linux/ubuntu focal-cran40/ InRelease\n",
            "Hit:2 https://developer.download.nvidia.com/compute/cuda/repos/ubuntu2004/x86_64  InRelease\n",
            "Hit:3 http://ppa.launchpad.net/c2d4u.team/c2d4u4.0+/ubuntu focal InRelease\n",
            "Hit:4 http://archive.ubuntu.com/ubuntu focal InRelease\n",
            "Get:5 http://security.ubuntu.com/ubuntu focal-security InRelease [114 kB]\n",
            "Get:6 http://archive.ubuntu.com/ubuntu focal-updates InRelease [114 kB]\n",
            "Hit:7 http://ppa.launchpad.net/cran/libgit2/ubuntu focal InRelease\n",
            "Hit:8 http://ppa.launchpad.net/deadsnakes/ppa/ubuntu focal InRelease\n",
            "Get:9 http://archive.ubuntu.com/ubuntu focal-backports InRelease [108 kB]\n",
            "Hit:10 http://ppa.launchpad.net/graphics-drivers/ppa/ubuntu focal InRelease\n",
            "Hit:11 http://ppa.launchpad.net/ubuntugis/ppa/ubuntu focal InRelease\n",
            "Fetched 336 kB in 3s (133 kB/s)\n",
            "Reading package lists... Done\n",
            "openjdk version \"1.8.0_362\"\n",
            "OpenJDK Runtime Environment (build 1.8.0_362-8u362-ga-0ubuntu1~20.04.1-b09)\n",
            "OpenJDK 64-Bit Server VM (build 25.362-b09, mixed mode)\n",
            "Looking in indexes: https://pypi.org/simple, https://us-python.pkg.dev/colab-wheels/public/simple/\n",
            "Requirement already satisfied: pyspark in /usr/local/lib/python3.10/dist-packages (3.4.0)\n",
            "Requirement already satisfied: py4j==0.10.9.7 in /usr/local/lib/python3.10/dist-packages (from pyspark) (0.10.9.7)\n"
          ]
        }
      ],
      "source": [
        "!apt-get update\n",
        "!apt-get install openjdk-8-jdk-headless -qq > /dev/null\n",
        "import os\n",
        "os.environ[\"JAVA_HOME\"] = \"/usr/lib/jvm/java-8-openjdk-amd64\"\n",
        "!update-alternatives --set java /usr/lib/jvm/java-8-openjdk-amd64/jre/bin/java\n",
        "!java -version\n",
        "!pip install pyspark\n"
      ]
    },
    {
      "cell_type": "code",
      "source": [
        "from pyspark.sql import SparkSession\n",
        "\n",
        "spark = SparkSession.builder.appName(\"MovielensDataSet\").getOrCreate()\n",
        "\n",
        "moviesDF = spark.read.option(\"header\",\"true\").csv(\"movies.csv\")\n",
        "linksDF = spark.read.option(\"header\",\"true\").csv(\"links.csv\")\n",
        "ratingsDF = spark.read.option(\"header\",\"true\").csv(\"ratings.csv\")\n",
        "tagsDF = spark.read.option(\"header\",\"true\").csv(\"tags.csv\")\n",
        "\n",
        "tagsDF.show()\n"
      ],
      "metadata": {
        "colab": {
          "base_uri": "https://localhost:8080/"
        },
        "id": "_Tg8_htdOzvi",
        "outputId": "30509da7-f332-4d43-b628-49a4b72a3133"
      },
      "execution_count": 45,
      "outputs": [
        {
          "output_type": "stream",
          "name": "stdout",
          "text": [
            "+------+-------+-----------------+----------+\n",
            "|userId|movieId|              tag| timestamp|\n",
            "+------+-------+-----------------+----------+\n",
            "|     2|  60756|            funny|1445714994|\n",
            "|     2|  60756|  Highly quotable|1445714996|\n",
            "|     2|  60756|     will ferrell|1445714992|\n",
            "|     2|  89774|     Boxing story|1445715207|\n",
            "|     2|  89774|              MMA|1445715200|\n",
            "|     2|  89774|        Tom Hardy|1445715205|\n",
            "|     2| 106782|            drugs|1445715054|\n",
            "|     2| 106782|Leonardo DiCaprio|1445715051|\n",
            "|     2| 106782|  Martin Scorsese|1445715056|\n",
            "|     7|  48516|     way too long|1169687325|\n",
            "|    18|    431|        Al Pacino|1462138765|\n",
            "|    18|    431|         gangster|1462138749|\n",
            "|    18|    431|            mafia|1462138755|\n",
            "|    18|   1221|        Al Pacino|1461699306|\n",
            "|    18|   1221|            Mafia|1461699303|\n",
            "|    18|   5995|        holocaust|1455735472|\n",
            "|    18|   5995|       true story|1455735479|\n",
            "|    18|  44665|     twist ending|1456948283|\n",
            "|    18|  52604|  Anthony Hopkins|1457650696|\n",
            "|    18|  52604|  courtroom drama|1457650711|\n",
            "+------+-------+-----------------+----------+\n",
            "only showing top 20 rows\n",
            "\n"
          ]
        }
      ]
    },
    {
      "cell_type": "code",
      "source": [
        "moviesDF.show()"
      ],
      "metadata": {
        "colab": {
          "base_uri": "https://localhost:8080/"
        },
        "id": "KFWNnw2ZSRpu",
        "outputId": "774b03c5-cfb1-48a5-e264-6fc8e1a521fd"
      },
      "execution_count": 46,
      "outputs": [
        {
          "output_type": "stream",
          "name": "stdout",
          "text": [
            "+-------+--------------------+--------------------+\n",
            "|movieId|               title|              genres|\n",
            "+-------+--------------------+--------------------+\n",
            "|      1|    Toy Story (1995)|Adventure|Animati...|\n",
            "|      2|      Jumanji (1995)|Adventure|Childre...|\n",
            "|      3|Grumpier Old Men ...|      Comedy|Romance|\n",
            "|      4|Waiting to Exhale...|Comedy|Drama|Romance|\n",
            "|      5|Father of the Bri...|              Comedy|\n",
            "|      6|         Heat (1995)|Action|Crime|Thri...|\n",
            "|      7|      Sabrina (1995)|      Comedy|Romance|\n",
            "|      8| Tom and Huck (1995)|  Adventure|Children|\n",
            "|      9| Sudden Death (1995)|              Action|\n",
            "|     10|    GoldenEye (1995)|Action|Adventure|...|\n",
            "|     11|American Presiden...|Comedy|Drama|Romance|\n",
            "|     12|Dracula: Dead and...|       Comedy|Horror|\n",
            "|     13|        Balto (1995)|Adventure|Animati...|\n",
            "|     14|        Nixon (1995)|               Drama|\n",
            "|     15|Cutthroat Island ...|Action|Adventure|...|\n",
            "|     16|       Casino (1995)|         Crime|Drama|\n",
            "|     17|Sense and Sensibi...|       Drama|Romance|\n",
            "|     18|   Four Rooms (1995)|              Comedy|\n",
            "|     19|Ace Ventura: When...|              Comedy|\n",
            "|     20|  Money Train (1995)|Action|Comedy|Cri...|\n",
            "+-------+--------------------+--------------------+\n",
            "only showing top 20 rows\n",
            "\n"
          ]
        }
      ]
    },
    {
      "cell_type": "code",
      "source": [
        "joinedDF = tagsDF.join(moviesDF,\"movieId\",\"left\")\n",
        "\n",
        "joinedDF = joinedDF.join(ratingsDF, \"movieId\")\n",
        "\n",
        "joinedDF.show()"
      ],
      "metadata": {
        "colab": {
          "base_uri": "https://localhost:8080/"
        },
        "id": "1TrQjky6Qj9Z",
        "outputId": "d288e19e-b7fe-4410-da70-989aa7511f5d"
      },
      "execution_count": 47,
      "outputs": [
        {
          "output_type": "stream",
          "name": "stdout",
          "text": [
            "+-------+------+-----+----------+--------------------+------+------+------+----------+\n",
            "|movieId|userId|  tag| timestamp|               title|genres|userId|rating| timestamp|\n",
            "+-------+------+-----+----------+--------------------+------+------+------+----------+\n",
            "|  60756|     2|funny|1445714994|Step Brothers (2008)|Comedy|   599|   2.5|1498515769|\n",
            "|  60756|     2|funny|1445714994|Step Brothers (2008)|Comedy|   583|   3.0|1481474191|\n",
            "|  60756|     2|funny|1445714994|Step Brothers (2008)|Comedy|   564|   5.0|1478451501|\n",
            "|  60756|     2|funny|1445714994|Step Brothers (2008)|Comedy|   560|   3.5|1469653998|\n",
            "|  60756|     2|funny|1445714994|Step Brothers (2008)|Comedy|   484|   4.5|1342368380|\n",
            "|  60756|     2|funny|1445714994|Step Brothers (2008)|Comedy|   477|   4.0|1234150559|\n",
            "|  60756|     2|funny|1445714994|Step Brothers (2008)|Comedy|   448|   3.0|1262290001|\n",
            "|  60756|     2|funny|1445714994|Step Brothers (2008)|Comedy|   424|   4.0|1457846119|\n",
            "|  60756|     2|funny|1445714994|Step Brothers (2008)|Comedy|   419|   4.5|1350347673|\n",
            "|  60756|     2|funny|1445714994|Step Brothers (2008)|Comedy|   414|   2.0|1273977751|\n",
            "|  60756|     2|funny|1445714994|Step Brothers (2008)|Comedy|   408|   4.0|1468361683|\n",
            "|  60756|     2|funny|1445714994|Step Brothers (2008)|Comedy|   382|   1.5|1515162339|\n",
            "|  60756|     2|funny|1445714994|Step Brothers (2008)|Comedy|   365|   3.5|1488333218|\n",
            "|  60756|     2|funny|1445714994|Step Brothers (2008)|Comedy|   356|   3.0|1229142356|\n",
            "|  60756|     2|funny|1445714994|Step Brothers (2008)|Comedy|   328|   2.5|1494211494|\n",
            "|  60756|     2|funny|1445714994|Step Brothers (2008)|Comedy|   318|   4.0|1333827970|\n",
            "|  60756|     2|funny|1445714994|Step Brothers (2008)|Comedy|   298|   3.0|1447517068|\n",
            "|  60756|     2|funny|1445714994|Step Brothers (2008)|Comedy|   274|   3.0|1229332536|\n",
            "|  60756|     2|funny|1445714994|Step Brothers (2008)|Comedy|   249|   4.0|1356550320|\n",
            "|  60756|     2|funny|1445714994|Step Brothers (2008)|Comedy|   232|   3.5|1241823467|\n",
            "+-------+------+-----+----------+--------------------+------+------+------+----------+\n",
            "only showing top 20 rows\n",
            "\n"
          ]
        }
      ]
    },
    {
      "cell_type": "code",
      "source": [
        "from pyspark.sql.functions import avg,round\n",
        "\n",
        "joinedDF = joinedDF.groupBy(\"tag\").agg(round(avg(\"rating\"), 1).alias(\"average_rating\"))\n",
        "\n",
        "joinedDF.show()"
      ],
      "metadata": {
        "colab": {
          "base_uri": "https://localhost:8080/"
        },
        "id": "SOh9sz9zR9RN",
        "outputId": "a6623155-7dec-4dc6-b18f-6baa592c1ab0"
      },
      "execution_count": 49,
      "outputs": [
        {
          "output_type": "stream",
          "name": "stdout",
          "text": [
            "+--------------------+--------------+\n",
            "|                 tag|average_rating|\n",
            "+--------------------+--------------+\n",
            "|               anime|           4.0|\n",
            "|                hope|           3.4|\n",
            "|wrongful imprison...|           4.4|\n",
            "|               1970s|           3.8|\n",
            "|              freaks|           3.8|\n",
            "|                 art|           3.7|\n",
            "|          creativity|           5.0|\n",
            "|  intelligent sci-fi|           3.8|\n",
            "|        Heartwarming|           4.1|\n",
            "|             lyrical|           3.6|\n",
            "|              ransom|           3.9|\n",
            "|               mafia|           3.6|\n",
            "|              sequel|           3.7|\n",
            "|          Emma Stone|           3.9|\n",
            "|               scifi|           3.0|\n",
            "|          television|           3.6|\n",
            "|           Wolverine|           3.7|\n",
            "|               macho|           3.6|\n",
            "|        conversation|           4.2|\n",
            "|intertwining stor...|           4.2|\n",
            "+--------------------+--------------+\n",
            "only showing top 20 rows\n",
            "\n"
          ]
        }
      ]
    },
    {
      "cell_type": "code",
      "source": [
        "avgDF = joinedDF.orderBy(\"average_rating\", ascending=False)\n",
        "\n",
        "avgDF.show()"
      ],
      "metadata": {
        "colab": {
          "base_uri": "https://localhost:8080/"
        },
        "id": "tdxEtSf2Tf54",
        "outputId": "b5d10653-240a-466a-dd0f-755e22efdcbd"
      },
      "execution_count": 50,
      "outputs": [
        {
          "output_type": "stream",
          "name": "stdout",
          "text": [
            "+--------------------+--------------+\n",
            "|                 tag|average_rating|\n",
            "+--------------------+--------------+\n",
            "|          creativity|           5.0|\n",
            "|        human rights|           5.0|\n",
            "|          procedural|           5.0|\n",
            "|    free to download|           5.0|\n",
            "|         no dialogue|           5.0|\n",
            "|   thought provoking|           4.8|\n",
            "|            jon hamm|           4.8|\n",
            "|             parrots|           4.8|\n",
            "|            Dystopia|           4.8|\n",
            "| movies about movies|           4.7|\n",
            "|interracial marriage|           4.5|\n",
            "|   No DVD at Netflix|           4.5|\n",
            "|              subway|           4.5|\n",
            "|        good writing|           4.5|\n",
            "|               italy|           4.5|\n",
            "|               crazy|           4.5|\n",
            "|            creative|           4.5|\n",
            "|   building a family|           4.5|\n",
            "|reciprocal spectator|           4.5|\n",
            "|political right v...|           4.5|\n",
            "+--------------------+--------------+\n",
            "only showing top 20 rows\n",
            "\n"
          ]
        }
      ]
    }
  ]
}