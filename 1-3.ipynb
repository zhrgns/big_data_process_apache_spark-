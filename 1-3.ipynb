{
  "nbformat": 4,
  "nbformat_minor": 0,
  "metadata": {
    "colab": {
      "provenance": []
    },
    "kernelspec": {
      "name": "python3",
      "display_name": "Python 3"
    },
    "language_info": {
      "name": "python"
    }
  },
  "cells": [
    {
      "cell_type": "markdown",
      "source": [
        "Using Lottery.txt dataset,\n",
        "\n",
        "Please find top most commonly drawn triple numbers.\n",
        "\n",
        "(9,38,42) -> 2 times"
      ],
      "metadata": {
        "id": "Yjsvz2S736Nl"
      }
    },
    {
      "cell_type": "code",
      "execution_count": null,
      "metadata": {
        "id": "0x5WLQVW3N1M"
      },
      "outputs": [],
      "source": [
        "!apt-get update\n",
        "!apt-get install openjdk-8-jdk-headless -qq > /dev/null\n",
        "import os\n",
        "os.environ[\"JAVA_HOME\"] = \"/usr/lib/jvm/java-8-openjdk-amd64\"\n",
        "!update-alternatives --set java /usr/lib/jvm/java-8-openjdk-amd64/jre/bin/java\n",
        "!java -version\n",
        "!pip install pyspark"
      ]
    },
    {
      "cell_type": "code",
      "source": [
        "from pyspark import SparkContext\n",
        "\n",
        "# import file\n",
        "sc = SparkContext.getOrCreate()\n",
        "lotteryRDD = sc.textFile(\"Lottery.txt\")\n",
        "\n",
        "# def split_data(text):\n",
        "#   info = text.replace(\"}{\", \"},{\")\n",
        "#   return (info)\n",
        "\n",
        "# lotteryRDD = lotteryRDD.map(lambda line: split_data(line))\n",
        "\n",
        "lotteryRDD = lotteryRDD.flatMap(lambda x: x.split(','))\n",
        "lotteryRDD = lotteryRDD.filter(lambda line: \"rakamlarNumaraSirasi\" in line)\n",
        "\n",
        "lotteryRDD.take(5)"
      ],
      "metadata": {
        "colab": {
          "base_uri": "https://localhost:8080/"
        },
        "id": "ePiIhG8735wK",
        "outputId": "7d6f03dd-bda6-4cac-c006-903411438175"
      },
      "execution_count": 97,
      "outputs": [
        {
          "output_type": "execute_result",
          "data": {
            "text/plain": [
              "[' \"rakamlarNumaraSirasi\": \"5 - 15 - 20 - 32 - 34 - 47\"',\n",
              " ' \"rakamlarNumaraSirasi\": \"3 - 14 - 16 - 23 - 27 - 43\"',\n",
              " ' \"rakamlarNumaraSirasi\": \"6 - 22 - 26 - 31 - 38 - 44\"',\n",
              " ' \"rakamlarNumaraSirasi\": \"7 - 11 - 16 - 18 - 25 - 26\"',\n",
              " ' \"rakamlarNumaraSirasi\": \"2 - 5 - 14 - 30 - 31 - 39\"']"
            ]
          },
          "metadata": {},
          "execution_count": 97
        }
      ]
    },
    {
      "cell_type": "code",
      "source": [
        "def format_lines(text):\n",
        "  info = text.replace(\"\\\"rakamlarNumaraSirasi\\\": \\\"\", \"\").split(\" - \")\n",
        "  info[0]= info[0].replace(\" \", \"\")\n",
        "  info[5]= info[5].replace(\"\\\"\", \"\")\n",
        "  return (info)\n",
        "\n",
        "lotteryRDD = lotteryRDD.map(lambda line : format_lines(line))\n",
        "lotteryRDD.take(10)"
      ],
      "metadata": {
        "id": "suj0zFUl7jko",
        "colab": {
          "base_uri": "https://localhost:8080/"
        },
        "outputId": "44c60507-2984-4820-8531-7e9f00aac1b0"
      },
      "execution_count": 98,
      "outputs": [
        {
          "output_type": "execute_result",
          "data": {
            "text/plain": [
              "[['5', '15', '20', '32', '34', '47'],\n",
              " ['3', '14', '16', '23', '27', '43'],\n",
              " ['6', '22', '26', '31', '38', '44'],\n",
              " ['7', '11', '16', '18', '25', '26'],\n",
              " ['2', '5', '14', '30', '31', '39'],\n",
              " ['2', '14', '24', '25', '30', '36'],\n",
              " ['4', '8', '14', '24', '27', '36'],\n",
              " ['3', '17', '36', '41', '46', '47'],\n",
              " ['4', '15', '16', '18', '27', '41'],\n",
              " ['5', '11', '24', '29', '41', '45']]"
            ]
          },
          "metadata": {},
          "execution_count": 98
        }
      ]
    },
    {
      "cell_type": "code",
      "source": [
        "from itertools import combinations\n",
        "# Use lambda function to create groups of 3\n",
        "lotteryRDD = lotteryRDD.flatMap(lambda x: (list(combinations(x, 3))))\n",
        "lotteryRDD = lotteryRDD.map(lambda x:(x,1))\n",
        "lotteryRDD = lotteryRDD.reduceByKey(lambda x,y:x+y)\n",
        "sortRDD = lotteryRDD.sortBy(lambda x: x[1], ascending=False)\n",
        "lotteryRDD.take(10)"
      ],
      "metadata": {
        "colab": {
          "base_uri": "https://localhost:8080/"
        },
        "id": "7Zq_mpIQl88i",
        "outputId": "ffed09ff-3b1b-4879-f42c-287416b1869e"
      },
      "execution_count": 99,
      "outputs": [
        {
          "output_type": "execute_result",
          "data": {
            "text/plain": [
              "[(('5', '15', '32'), 3),\n",
              " (('5', '15', '47'), 3),\n",
              " (('5', '20', '34'), 2),\n",
              " (('5', '32', '47'), 1),\n",
              " (('15', '20', '34'), 1),\n",
              " (('15', '32', '47'), 2),\n",
              " (('20', '32', '34'), 1),\n",
              " (('20', '34', '47'), 3),\n",
              " (('3', '14', '16'), 3),\n",
              " (('3', '23', '27'), 2)]"
            ]
          },
          "metadata": {},
          "execution_count": 99
        }
      ]
    },
    {
      "cell_type": "code",
      "source": [
        "most_winners= sortRDD.take(1)\n",
        "most_winners"
      ],
      "metadata": {
        "colab": {
          "base_uri": "https://localhost:8080/"
        },
        "id": "4VXVdHyUosVd",
        "outputId": "9b009d25-4ae0-4719-bb24-8df8e82bda80"
      },
      "execution_count": 100,
      "outputs": [
        {
          "output_type": "execute_result",
          "data": {
            "text/plain": [
              "[(('12', '19', '47'), 8)]"
            ]
          },
          "metadata": {},
          "execution_count": 100
        }
      ]
    },
    {
      "cell_type": "code",
      "source": [
        "print(\" Top most commonly drawn triple numbers in lottery winners: \" ,most_winners[0][0], \" for \", most_winners[0][1],\" times\" )"
      ],
      "metadata": {
        "colab": {
          "base_uri": "https://localhost:8080/"
        },
        "id": "5CXVLlOoq39Y",
        "outputId": "71e5547f-2c7b-4b5c-c6c4-aedf36fa9d52"
      },
      "execution_count": 101,
      "outputs": [
        {
          "output_type": "stream",
          "name": "stdout",
          "text": [
            " Top most commonly drawn triple numbers in lottery winners:  ('12', '19', '47')  for  8  times\n"
          ]
        }
      ]
    },
    {
      "cell_type": "code",
      "source": [],
      "metadata": {
        "id": "EzqFcXPurJvl"
      },
      "execution_count": 96,
      "outputs": []
    }
  ]
}